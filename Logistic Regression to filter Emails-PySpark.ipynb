{
 "cells": [
  {
   "cell_type": "markdown",
   "metadata": {},
   "source": [
    "# Logistic Regression - Extra Credit\n",
    "## Wright, Kyle"
   ]
  },
  {
   "cell_type": "code",
   "execution_count": 125,
   "metadata": {},
   "outputs": [
    {
     "data": {
      "text/plain": [
       "'2.3.2'"
      ]
     },
     "execution_count": 125,
     "metadata": {},
     "output_type": "execute_result"
    }
   ],
   "source": [
    "spark.version\n"
   ]
  },
  {
   "cell_type": "code",
   "execution_count": 126,
   "metadata": {},
   "outputs": [
    {
     "data": {
      "text/html": [
       "\n",
       "        <div>\n",
       "            <p><b>SparkContext</b></p>\n",
       "\n",
       "            <p><a href=\"http://10.0.0.65:4040\">Spark UI</a></p>\n",
       "\n",
       "            <dl>\n",
       "              <dt>Version</dt>\n",
       "                <dd><code>v2.3.2</code></dd>\n",
       "              <dt>Master</dt>\n",
       "                <dd><code>local[*]</code></dd>\n",
       "              <dt>AppName</dt>\n",
       "                <dd><code>PySparkShell</code></dd>\n",
       "            </dl>\n",
       "        </div>\n",
       "        "
      ],
      "text/plain": [
       "<SparkContext master=local[*] appName=PySparkShell>"
      ]
     },
     "execution_count": 126,
     "metadata": {},
     "output_type": "execute_result"
    }
   ],
   "source": [
    "spark.sparkContext"
   ]
  },
  {
   "cell_type": "markdown",
   "metadata": {},
   "source": [
    "## Input files"
   ]
  },
  {
   "cell_type": "code",
   "execution_count": 128,
   "metadata": {},
   "outputs": [],
   "source": [
    "input_spam = \"C:/Spark/spam.txt\"\n",
    "input_ham = \"C:/Spark/nospam.txt\""
   ]
  },
  {
   "cell_type": "markdown",
   "metadata": {},
   "source": [
    "## Create RDDs"
   ]
  },
  {
   "cell_type": "code",
   "execution_count": 129,
   "metadata": {},
   "outputs": [],
   "source": [
    "spam = spark.sparkContext.textFile(input_spam)"
   ]
  },
  {
   "cell_type": "code",
   "execution_count": 130,
   "metadata": {},
   "outputs": [],
   "source": [
    "nospam = spark.sparkContext.textFile(input_ham)"
   ]
  },
  {
   "cell_type": "markdown",
   "metadata": {},
   "source": [
    "##  Create term frequency"
   ]
  },
  {
   "cell_type": "code",
   "execution_count": 157,
   "metadata": {},
   "outputs": [],
   "source": [
    "tf = HashingTF(numFeatures = 256)"
   ]
  },
  {
   "cell_type": "markdown",
   "metadata": {},
   "source": [
    "## Featurize RDDs"
   ]
  },
  {
   "cell_type": "code",
   "execution_count": 158,
   "metadata": {},
   "outputs": [],
   "source": [
    "featurize_spam = spam.map(lambda x: tf.transform(x.split(\" \")))"
   ]
  },
  {
   "cell_type": "code",
   "execution_count": 159,
   "metadata": {},
   "outputs": [],
   "source": [
    "featurize_nospam = nospam.map(lambda x: tf.transform(x.split(\" \")))"
   ]
  },
  {
   "cell_type": "markdown",
   "metadata": {},
   "source": [
    "## Label spam and nospam to get trained"
   ]
  },
  {
   "cell_type": "code",
   "execution_count": 160,
   "metadata": {},
   "outputs": [],
   "source": [
    "negativeExamples = featurize_spam.map(lambda features: LabeledPoint(1, features))"
   ]
  },
  {
   "cell_type": "code",
   "execution_count": 161,
   "metadata": {},
   "outputs": [],
   "source": [
    "positiveExamples = featurize_nospam.map(lambda features: LabeledPoint(0, features))"
   ]
  },
  {
   "cell_type": "markdown",
   "metadata": {},
   "source": [
    "## Combine featurized spam and nospam"
   ]
  },
  {
   "cell_type": "code",
   "execution_count": 162,
   "metadata": {},
   "outputs": [],
   "source": [
    "Training_data = negativeExamples.union(positiveExamples)"
   ]
  },
  {
   "cell_type": "code",
   "execution_count": 163,
   "metadata": {},
   "outputs": [
    {
     "data": {
      "text/plain": [
       "UnionRDD[1324] at union at NativeMethodAccessorImpl.java:0"
      ]
     },
     "execution_count": 163,
     "metadata": {},
     "output_type": "execute_result"
    }
   ],
   "source": [
    "Training_data.cache()"
   ]
  },
  {
   "cell_type": "markdown",
   "metadata": {},
   "source": [
    "## Train on data"
   ]
  },
  {
   "cell_type": "code",
   "execution_count": 164,
   "metadata": {},
   "outputs": [],
   "source": [
    "model = LogisticRegressionWithSGD().train(Training_data)"
   ]
  },
  {
   "cell_type": "markdown",
   "metadata": {},
   "source": [
    "## Input test file"
   ]
  },
  {
   "cell_type": "code",
   "execution_count": 165,
   "metadata": {},
   "outputs": [],
   "source": [
    "input_10emails = \"C:/Spark/10emails.txt\""
   ]
  },
  {
   "cell_type": "code",
   "execution_count": 166,
   "metadata": {},
   "outputs": [],
   "source": [
    "predictrdd = spark.sparkContext.textFile(input_10emails)"
   ]
  },
  {
   "cell_type": "markdown",
   "metadata": {},
   "source": [
    "## Perform prediction regression"
   ]
  },
  {
   "cell_type": "code",
   "execution_count": 167,
   "metadata": {},
   "outputs": [
    {
     "data": {
      "text/plain": [
       "[(\"e100\\tSubject: web access to our email system Do we have a web access to our email system? Hi Alex, Here are the directions: go to https://mail.limelife.com/exchange (please note the 's' in the web address - it's a secure server so you have to have the 's' there) if you are asked to verify a certificate, please accept and continue\",\n",
       "  1),\n",
       " ('e200\\tHow I Lost 30 Lbs If you are experiencing difficulty viewing this important message You received this message because you signed up at a select affiliate website. If you wish to unsubscribe from our newsletter please click or send post email to: 1703 Sudderth Dr,,# 341,Ruidoso,NM,88345',\n",
       "  1),\n",
       " ('e300\\tImpacting Liberty Today: Harvard student is booted from apartment for owning guns. Census confirms that most immigrants are on welfare. And an illegal alien violently rapes mother. Census Confirms: Most Immigrants On Welfare Analyzing data from 2014, the bureau found that a whopping 63 percent of non-citizen immigrants are using a welfare program. No Longer Fall Subject To Energy Profiteering Sponsored: Become self-sufficient and go 100% off the grid. This product will give you everything you need to know about building a solar power plant to energize home and avoid outrageous energy bills.',\n",
       "  1),\n",
       " (\"e400\\t10 BEST SEDANS FOR 2019 UNDER $25,000 These 10 best sedans for 2019 under $25,000 include several all-new generations. For anyone who's still resisting the idea of buying a crossover, there are plenty of excellent alternatives...\",\n",
       "  0),\n",
       " ('e500\\tHello Richard, I just got the offer letter from FedEX and signed the offer of employment. I will drop it in the mail before 4pm today. As I have mentioned, I will report to work on Monday, April 24. One Question: what time does the main office door open (in the morning)? Thank you very much and see you on Monday. Best regards, Max',\n",
       "  0),\n",
       " ('e600\\tThis is just embarrassing, Friend. Canada is re-reviewing studies of glyphosate�s health effects after court documents revealed Monsanto secretly influenced some of the studies Health Canada relied on when approving glyphosate�s use. These are the same studies that the Trump administration�s Environmental Protection Agency relied on when it declared that glyphosate is not a carcinogen, contradicting the World Health Organization.',\n",
       "  0),\n",
       " ('e700\\tLos Angeles - Maggie Q is best known for her roles in shows like Nikita and Designated Survivor. But today, the 38-year-old actress isn\\'t here to discuss her action-packed film and TV career. She wants to talk about... It may not be a glamorous topic, but for Maggie, it recently proved to be a game-changer. \"When you feel sluggish and run-down, it\\'s easy to say, \\'Well, I guess I\\'m just getting older,\\' but now I know that\\'s not true - you can be 65 and still feel like you\\'re 20.\"',\n",
       "  0),\n",
       " ('e800\\tNever Pay for Covered Home Repairs Again. Get a risk free quote: Click Here For a home warranty protection plan that covers: Air Conditioning System -- Heating System -- Electrical System -- Plumbing System -- Water Heater -- Plumbing Stoppages -- Refrigerator -- Oven -- Stove -- Cook Top -- Microwave -- Dishwasher -- Clothes Washer -- Clothes Dryer -- Garbage Disposal -- Garage Opener -- Ceiling Fans -- Duct work Limited time, First Month Free*: Click Here',\n",
       "  1),\n",
       " ('e801\\tHello joe, It was very nice to talk to you this morning. I will be available today (after 3pm) and ALL day tomorrow (Thursday, March 30).  I am looking forward to meet you and your  engineering team tomorrow. Please let me  know what is the best time for you. Thanks. Best regards, Jane',\n",
       "  0),\n",
       " (\"e802\\tBob, I am in receipt of your resume through the LimeLife website. I've had a chance to look over your background, and would welcome the opportunity to speak with you about the opportunities here at LimeLife. When would be a good time to speak with you in the next several days?  I would prefer early evening, but let me know what works best for you. Thanks, and I look forward to speaking with you. Rich Carter   VP, Engineering LimeLife, Inc.\",\n",
       "  0)]"
      ]
     },
     "execution_count": 167,
     "metadata": {},
     "output_type": "execute_result"
    }
   ],
   "source": [
    "testemails = predictrdd.map(lambda email: (email, model.predict(tf.transform(email.split(\" \")))))\n",
    "testemails.collect()"
   ]
  },
  {
   "cell_type": "markdown",
   "metadata": {},
   "source": [
    "## Convert for output"
   ]
  },
  {
   "cell_type": "code",
   "execution_count": 170,
   "metadata": {},
   "outputs": [],
   "source": [
    "output = testemails.map(lambda x: (x[0].split(\"\\t\"), x[1])).map(\n",
    "    lambda x: (x[0][0], 'spam') if x[1] == 1 else (x[0][0], 'nospam'))"
   ]
  },
  {
   "cell_type": "code",
   "execution_count": 171,
   "metadata": {},
   "outputs": [
    {
     "data": {
      "text/plain": [
       "[('e100', 'spam'),\n",
       " ('e200', 'spam'),\n",
       " ('e300', 'spam'),\n",
       " ('e400', 'nospam'),\n",
       " ('e500', 'nospam'),\n",
       " ('e600', 'nospam'),\n",
       " ('e700', 'nospam'),\n",
       " ('e800', 'spam'),\n",
       " ('e801', 'nospam'),\n",
       " ('e802', 'nospam')]"
      ]
     },
     "execution_count": 171,
     "metadata": {},
     "output_type": "execute_result"
    }
   ],
   "source": [
    "output.collect()"
   ]
  },
  {
   "cell_type": "code",
   "execution_count": null,
   "metadata": {},
   "outputs": [],
   "source": []
  }
 ],
 "metadata": {
  "kernelspec": {
   "display_name": "Python 3",
   "language": "python",
   "name": "python3"
  },
  "language_info": {
   "codemirror_mode": {
    "name": "ipython",
    "version": 3
   },
   "file_extension": ".py",
   "mimetype": "text/x-python",
   "name": "python",
   "nbconvert_exporter": "python",
   "pygments_lexer": "ipython3",
   "version": "3.6.5"
  }
 },
 "nbformat": 4,
 "nbformat_minor": 2
}
